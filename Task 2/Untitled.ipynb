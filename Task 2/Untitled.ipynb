{
 "cells": [
  {
   "cell_type": "code",
   "execution_count": 55,
   "metadata": {},
   "outputs": [
    {
     "name": "stdout",
     "output_type": "stream",
     "text": [
      "[[ 58  45 124 124]]\n"
     ]
    }
   ],
   "source": [
    "import numpy as np\n",
    "import cv2 as cv\n",
    "from matplotlib import pyplot as plt\n",
    "import xml.etree.ElementTree\n",
    "\n",
    "image = (\"Matt.jpg\")\n",
    "\n",
    "#directoryPath =\"C:\\\\Users\\\\jake_\\\\OneDrive\\\\Documents\\\\University\\\\Year3\\\\IPCV\\\\CW1\\\\Task 2\\\\\"\n",
    "directoryPath =\"C:/Users/jake_/OneDrive/Documents/University/Year3/IPCV/CW1/Task 2/\"\n",
    "\n",
    "\n",
    "img = cv.imread(directoryPath + image)\n",
    "gray = cv.cvtColor(img, cv.COLOR_RGB2GRAY)\n",
    "\n",
    "face_cascade = cv.CascadeClassifier( directoryPath +  \"cascade.xml\")\n",
    "face_cascade = cv.CascadeClassifier(directoryPath + \"haarcascade_frontalcatface.xml\")\n",
    "\n",
    "\n",
    "faces = face_cascade.detectMultiScale(gray)\n",
    "print(faces)\n",
    "\n",
    "for (x,y,w,h) in faces:\n",
    "    cv.rectangle(img,(x,y),(x+w,y+h),(255,0,0),2)\n",
    "    roi_gray = gray[y:y+h, x:x+w]\n",
    "    roi_color = img[y:y+h, x:x+w]\n",
    "    \n",
    "    eye_cascade = cv.CascadeClassifier('haarcascade_eye.xml')\n",
    "    eyes = eye_cascade.detectMultiScale(roi_gray)\n",
    "    \n",
    "    for (ex,ey,ew,eh) in eyes:\n",
    "        cv.rectangle(roi_color,(ex,ey),(ex+ew,ey+eh),(0,255,0),2)\n",
    "        \n",
    "        \n",
    "cv.imshow('img',img)\n",
    "cv.waitKey(0)\n",
    "cv.destroyAllWindows()"
   ]
  },
  {
   "cell_type": "code",
   "execution_count": null,
   "metadata": {
    "collapsed": true
   },
   "outputs": [],
   "source": []
  },
  {
   "cell_type": "code",
   "execution_count": null,
   "metadata": {
    "collapsed": true
   },
   "outputs": [],
   "source": []
  }
 ],
 "metadata": {
  "kernelspec": {
   "display_name": "Python 3",
   "language": "python",
   "name": "python3"
  },
  "language_info": {
   "codemirror_mode": {
    "name": "ipython",
    "version": 3
   },
   "file_extension": ".py",
   "mimetype": "text/x-python",
   "name": "python",
   "nbconvert_exporter": "python",
   "pygments_lexer": "ipython3",
   "version": "3.6.3"
  }
 },
 "nbformat": 4,
 "nbformat_minor": 2
}
